{
 "cells": [
  {
   "attachments": {},
   "cell_type": "markdown",
   "metadata": {
    "pycharm": {}
   },
   "source": [
    "# Ejercicios - Clase 05 -"
   ]
  },
  {
   "cell_type": "markdown",
   "metadata": {
    "pycharm": {}
   },
   "source": [
    "## Ejercicios"
   ]
  },
  {
   "attachments": {},
   "cell_type": "markdown",
   "metadata": {},
   "source": [
    "### Ej. 1:\n",
    "\n",
    "Implementar un árbol binario con la representación Lista de Hijos.\n",
    "\n",
    "<img src=\"https://drive.google.com/uc?id=1qhs9M9wxTbthyAoU91V03UZ5i29EyZMx\" style=\"width: 400px;\" />\n",
    "\n",
    "\n",
    "El método <code>raiz()</code>, retorna el dato almacenado en la raíz del árbol.\n",
    "\n",
    "El método <code>hijos()</code>, retorna la lista de hijos del árbol\n",
    "\n",
    "El método <code>agregarHijo(unHijo)</code>, agrega un hijo a la lista de hijos del árbol \n",
    "\n",
    "El método <code>eliminarHijo(unHijo)</code>, elimina un hijo a la lista de hijos del árbol\n"
   ]
  },
  {
   "cell_type": "code",
   "execution_count": null,
   "metadata": {},
   "outputs": [],
   "source": []
  },
  {
   "attachments": {},
   "cell_type": "markdown",
   "metadata": {},
   "source": [
    "### Ej. 2:\n",
    "\n",
    "Implementar un árbol binario con la representación de Hijo más izquierdo – Hermano derecho.\n",
    "\n",
    "<img src=\"https://drive.google.com/uc?id=1qhs9M9wxTbthyAoU91V03UZ5i29EyZMx\" style=\"width: 400px;\" />\n",
    "\n",
    "El método <code>raiz()</code>, retorna el dato almacenado en la raíz del árbol.\n",
    "\n",
    "El método <code>hijos()</code>, retorna la lista de hijos del árbol\n",
    "\n",
    "El método <code>agregarHijo(unHijo)</code>, agrega un hijo a la lista de hijos del árbol \n",
    "\n",
    "El método <code>eliminarHijo(unHijo)</code>, elimina un hijo a la lista de hijos del árbol\n"
   ]
  },
  {
   "cell_type": "code",
   "execution_count": null,
   "metadata": {},
   "outputs": [],
   "source": []
  },
  {
   "attachments": {},
   "cell_type": "markdown",
   "metadata": {},
   "source": [
    "### Ej. 3:\n",
    "\n",
    "Agregue a la clase <code>ArbolGeneral</code> los siguientes métodos:\n",
    "\n",
    "<img src=\"https://drive.google.com/uc?id=1qnZblVXGHAvhEFUsYB10YrgEvmbWzXrC\" style=\"width: 400px;\" />\n",
    "\n",
    "\n",
    "a) <code>altura()</code> que devuelve la altura del árbol. La altura del árbol es la longitud del camino más largo desde el nodo raíz a una hoja.\n",
    "\n",
    "b) <code>nivel(unHijo)</code> que devuelve la profundidad o nivel del nodo en el árbol. El nivel de un nodo es la longitud del único camino de la raíz al nodo.\n",
    "\n",
    "c) <code>ancho()</code> el método retona un número entero. La amplitud de un árbol se define como la cantidad de nodos que se encuentran en el nivel que posee la mayor cantidad de nodos.\n",
    "\n",
    "d) <code>ancestro(dato1, dato2)</code> que determina si dato1 es ancestro de dato2, es decir si hay un camino de dato1a dato2. Considere que no se repite el contenido de los nodos.\n",
    "\n",
    "e) <code>equals(unObjeto)</code> que determina si dos árboles son o no similares. Dos árboles son similares si son estructuralmente iguales, aunque no coincidan los valores que se almacenan en los nodos respectivos de los árboles."
   ]
  },
  {
   "cell_type": "code",
   "execution_count": null,
   "metadata": {},
   "outputs": [],
   "source": []
  },
  {
   "attachments": {},
   "cell_type": "markdown",
   "metadata": {},
   "source": [
    "### Ej. 4:\n",
    "\n",
    "En una empresa los empleados están categorizados con un número que va del 1 al 10, siendo el 1 el presidente, el 2 el vicepresidente, 3 los gerentes y así siguiendo. También los mismos poseen una antigüedad. Esta información está dispuesta en un árbol general. \n",
    "\n",
    "Para este ejercicio realice métodos que al menos resuelvan los siguientes problemas: \n",
    "\n",
    "a) devolver la cantidad de trabajadores por categoría.\n",
    "\n",
    "b) determinar que categoría posee la mayor cantidad de trabajadores.\n",
    "\n",
    "c) contar la cantidad total de trabajadores.\n",
    "\n",
    "d) Sea la situación en donde el presidente deja su función, reemplazarlo por la persona más antigua de sus subordinados, quién a su vez es reemplazada de la misma forma.\n"
   ]
  },
  {
   "cell_type": "code",
   "execution_count": null,
   "metadata": {},
   "outputs": [],
   "source": []
  },
  {
   "attachments": {},
   "cell_type": "markdown",
   "metadata": {},
   "source": [
    "### Ej. 5:\n",
    "\n",
    "Implemente una clase en llamada <code>Imagen</code> que permita crear imágenes en blanco y negro y utilice como representación interna una matriz.\n",
    "\n",
    "Una forma de comprimir una imagen es transformarla a un árbol 4-ario. Si toda la matriz tiene un mismo color, se debe definir un nodo con ese color. En caso contrario, se divide la matriz en cuatro partes, se define un nodo con 4 hijos, donde cada hijo es la conversión de cada una de las partes de la matriz.\n",
    "\n",
    "Realice un método de instancia llamado <code>imagenComprimida()</code> que devuelva la representación de la imagen en su árbol correspondiente."
   ]
  },
  {
   "cell_type": "code",
   "execution_count": null,
   "metadata": {},
   "outputs": [],
   "source": []
  }
 ],
 "metadata": {
  "kernelspec": {
   "display_name": "Python 3",
   "language": "python",
   "name": "python3"
  },
  "language_info": {
   "codemirror_mode": {
    "name": "ipython",
    "version": 3
   },
   "file_extension": ".py",
   "mimetype": "text/x-python",
   "name": "python",
   "nbconvert_exporter": "python",
   "pygments_lexer": "ipython3",
   "version": "3.7.3 (v3.7.3:ef4ec6ed12, Mar 25 2019, 16:52:21) \n[Clang 6.0 (clang-600.0.57)]"
  },
  "pycharm": {
   "stem_cell": {
    "cell_type": "raw",
    "metadata": {
     "collapsed": false
    },
    "source": []
   }
  },
  "vscode": {
   "interpreter": {
    "hash": "aee8b7b246df8f9039afb4144a1f6fd8d2ca17a180786b69acc140d282b71a49"
   }
  }
 },
 "nbformat": 4,
 "nbformat_minor": 2
}
