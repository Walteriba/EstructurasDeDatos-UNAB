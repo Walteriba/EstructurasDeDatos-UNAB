{
 "cells": [
  {
   "attachments": {},
   "cell_type": "markdown",
   "metadata": {
    "pycharm": {}
   },
   "source": [
    "# Ejercicios - Clase 01 -"
   ]
  },
  {
   "cell_type": "markdown",
   "metadata": {
    "pycharm": {}
   },
   "source": [
    "## Ejercicios"
   ]
  },
  {
   "attachments": {},
   "cell_type": "markdown",
   "metadata": {},
   "source": [
    "### Ej. 1:\n",
    "\n",
    "Definir la clase <code>Punto</code>. Sus *atributos* serán las coodenadas en `x` e `y` del plano cartesiano. Un <code>Punto</code> reconoce las siguientes *operaciones (métodos)*: \n",
    "- <code>distancia(p1, p2)</code>: distancia entre los puntos (devuleve un número)\n",
    "- <code>resta(p1, p2)</code>: resultado de la resta de dos puntos (devuelve un punto)      \n",
    "- <code>norma(p)</code>: módulo del vector desde el origen hacia el punto `p` "
   ]
  },
  {
   "cell_type": "code",
   "execution_count": null,
   "metadata": {},
   "outputs": [],
   "source": []
  },
  {
   "attachments": {},
   "cell_type": "markdown",
   "metadata": {},
   "source": [
    "### Ej. 2:\n",
    "Sobrecargar los métodos: <code>\\_\\_str\\_\\_ , \\_\\_add\\_\\_ , \\_\\_sub\\_\\_ , \\_\\_eq\\_\\_</code>."
   ]
  },
  {
   "cell_type": "code",
   "execution_count": null,
   "metadata": {},
   "outputs": [],
   "source": []
  },
  {
   "attachments": {},
   "cell_type": "markdown",
   "metadata": {},
   "source": [
    "### Ej. 3:\n",
    "\n",
    "Definir la clase <code>Circulo</code>. La clase debe contener los siguientes métodos:\n",
    "\n",
    "- Calcular el perimetro del circulo. \n",
    "- Clacular el area del circulo.\n"
   ]
  },
  {
   "cell_type": "code",
   "execution_count": null,
   "metadata": {},
   "outputs": [],
   "source": []
  },
  {
   "attachments": {},
   "cell_type": "markdown",
   "metadata": {},
   "source": [
    "### Ej. 4:\n",
    "\n",
    "Definir la clase <code>Triangulo</code>. Un triangulo esta compuesto por 3 puntos. La clase debe contener los siguientes métodos:\n",
    "\n",
    "- Calcular el perimetro del triangulo. \n",
    "- Clacular el area del triangulo.\n",
    "- Chequear si el triagulo es rectangulo. \n",
    "\n",
    "**Importante!** deben validar que los 3 puntos conformen un triangulo. "
   ]
  },
  {
   "cell_type": "code",
   "execution_count": null,
   "metadata": {},
   "outputs": [],
   "source": []
  },
  {
   "attachments": {},
   "cell_type": "markdown",
   "metadata": {},
   "source": [
    "### Ej. 5:\n",
    "\n",
    "Definir la clase <code>Rectangulo</code>. Un rectangulo pude ser definido de varias maneras, por ejemplo:\n",
    "- 4 puntos: las 4 esquinas (sirve para cualquier poligono).\n",
    "- 2 puntos: Idem anterior, pero usamos dos.\n",
    "- 1 punto de referencia, base y altura.\n",
    "\n",
    "*(Elejir solo una e implementarla)*\n",
    "\n",
    " La clase debe contener los siguientes métodos:\n",
    "\n",
    "- Calcular el perimetro del rectangulo. \n",
    "- Clacular el area del rectangulo.\n",
    "- Chequear si el rectangulo es un cuadradro. "
   ]
  },
  {
   "cell_type": "code",
   "execution_count": null,
   "metadata": {},
   "outputs": [],
   "source": []
  },
  {
   "attachments": {},
   "cell_type": "markdown",
   "metadata": {},
   "source": [
    "### Ej. 6:\n",
    "\n",
    "Definir la clase <code>FiguraGeometrica</code>. Una *Figura Geometrica* será una **super clase** de donde las anteriores (Circulo, Triangulo, Rectangulo). La clase debe contener los métodos comunes:\n",
    "\n",
    "- **mover**: trasladar la figura en el plano. \n",
    "- **dibujar**: idem **\\_\\_str\\_\\_**.\n",
    "- **interseccion**: dadas dos figuras, retorna `True` si se superponen en el plano. "
   ]
  },
  {
   "cell_type": "code",
   "execution_count": null,
   "metadata": {},
   "outputs": [],
   "source": []
  },
  {
   "attachments": {},
   "cell_type": "markdown",
   "metadata": {},
   "source": [
    "### Ej. 7:\n",
    "\n",
    "Implementar las clases de los ejercicios 3, 4 y 5, como **subclases** de FiguraGeometrica."
   ]
  },
  {
   "cell_type": "markdown",
   "metadata": {},
   "source": []
  }
 ],
 "metadata": {
  "kernelspec": {
   "display_name": "Python 3",
   "language": "python",
   "name": "python3"
  },
  "language_info": {
   "codemirror_mode": {
    "name": "ipython",
    "version": 3
   },
   "file_extension": ".py",
   "mimetype": "text/x-python",
   "name": "python",
   "nbconvert_exporter": "python",
   "pygments_lexer": "ipython3",
   "version": "3.7.3 (v3.7.3:ef4ec6ed12, Mar 25 2019, 16:52:21) \n[Clang 6.0 (clang-600.0.57)]"
  },
  "pycharm": {
   "stem_cell": {
    "cell_type": "raw",
    "metadata": {
     "collapsed": false
    },
    "source": []
   }
  },
  "vscode": {
   "interpreter": {
    "hash": "aee8b7b246df8f9039afb4144a1f6fd8d2ca17a180786b69acc140d282b71a49"
   }
  }
 },
 "nbformat": 4,
 "nbformat_minor": 2
}
