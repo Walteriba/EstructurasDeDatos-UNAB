{
 "cells": [
  {
   "cell_type": "markdown",
   "metadata": {},
   "source": [
    "# Algoritmos y Estructuras de Datos. \n",
    "\n",
    "## Complejidad Comptacional "
   ]
  },
  {
   "cell_type": "markdown",
   "metadata": {},
   "source": [
    "### PÁGINAS PARA CALCULAR RECURRENCIAS Y SABER RESOLVERLAS\n",
    "\n",
    "https://www.wolframalpha.com/input?i=RECURRENCIAS&lang=es\n",
    "\n",
    "https://www.cs.us.es/~jalonso/cursos/i1m-19/temas/tema-28.html"
   ]
  },
  {
   "cell_type": "markdown",
   "metadata": {},
   "source": [
    "#### Ejemplo 1: \n",
    "\n",
    "Analizar el tiempo de ejecución del siguiente algoritmo.  "
   ]
  },
  {
   "cell_type": "code",
   "execution_count": 1,
   "metadata": {},
   "outputs": [],
   "source": [
    "def es_par(n):\n",
    "    \"\"\"Determina si un número es par de forma recursiva\"\"\"\n",
    "    \n",
    "    if (n == 1):\n",
    "        return False\n",
    "    elif (n == 0):\n",
    "        return True\n",
    "    else:\n",
    "        return es_par(n // 2)"
   ]
  },
  {
   "attachments": {},
   "cell_type": "markdown",
   "metadata": {},
   "source": [
    "Casos Base: lineas 4 y 6\n",
    "\n",
    "Llamada Recursiva: linea 8\n",
    "\n",
    "$$\n",
    "\\begin{equation*}\n",
    "T(n) = \\begin{cases}\n",
    "c_1 & \\quad \\text{ si } n=0, \\\\[1ex]\n",
    "c_2 & \\quad \\text{ si } n=1, \\\\[1ex]\n",
    "T(\\frac{n}{2}) & \\quad \\text{ si } n \\ge 1.\n",
    "\\end{cases}\n",
    "\\end{equation*}\n",
    "$$"
   ]
  },
  {
   "cell_type": "markdown",
   "metadata": {},
   "source": [
    "Para analizar el orden y la recurrencia de la función `es_par(n)`, primero debemos comprender cómo se comporta en términos de llamadas recursivas.\n",
    "\n",
    "La función toma un número `n` como entrada y realiza una división entera `n // 2` en cada llamada recursiva. Dado que la entrada se reduce a la mitad en cada llamada recursiva, podemos decir que su orden de complejidad es logarítmico en base 2 (log₂(n)). Esto significa que el número de llamadas recursivas que realiza la función es proporcional al logaritmo base 2 de la entrada `n`.\n",
    "\n",
    "Por lo tanto, el orden de complejidad de la función `es_par(n)` es O(log₂(n)).\n",
    "\n",
    "En términos de recurrencia, podemos expresar la recurrencia de la función de la siguiente manera:\n",
    "\n",
    "T(n) = T(n // 2) + 1\n",
    "\n",
    "Donde T(n) representa el número de operaciones realizadas para determinar si `n` es par o no. En cada llamada recursiva, se realiza una división entera, lo que equivale a una operación, y luego se realiza una llamada recursiva para `n // 2`. Por lo tanto, la recurrencia establece que el número total de operaciones es igual al número de operaciones en la llamada recursiva más una operación adicional.\n",
    "\n",
    "Esta recurrencia es típica de algoritmos de división y conquista, como la búsqueda binaria, donde la entrada se divide en partes más pequeñas en cada paso. En este caso, la función divide el número `n` a la mitad en cada paso hasta que `n` alcance 0 o 1, lo que establece el caso base de la recursión.\n",
    "\n",
    "En resumen, el orden de complejidad de la función `es_par(n)` es O(log₂(n)), y la recurrencia se puede expresar como T(n) = T(n // 2) + 1."
   ]
  },
  {
   "cell_type": "markdown",
   "metadata": {},
   "source": [
    "$~$"
   ]
  },
  {
   "cell_type": "markdown",
   "metadata": {},
   "source": [
    "#### Ejemplo 2: \n",
    "\n",
    "Analizar el tiempo de ejecución del algoritmo de Ordenación por Selección.\n",
    "\n",
    "<br>\n",
    "Jamboard:\n",
    "\n",
    "link: https://jamboard.google.com/d/17kPW0dLCziNWFwZOxZu17rOxKtPH9jFOWJWyeYY8TSU/edit?usp=sharing "
   ]
  },
  {
   "cell_type": "markdown",
   "metadata": {},
   "source": [
    "#### Ejemplo 3: \n",
    "\n",
    "Analizar el tiempo de ejecución del algoritmo de Búsqueda Binaria.  \n",
    "\n",
    "<br>\n",
    "Jamboard:\n",
    "\n",
    "link: https://jamboard.google.com/d/17kPW0dLCziNWFwZOxZu17rOxKtPH9jFOWJWyeYY8TSU/edit?usp=sharing "
   ]
  },
  {
   "attachments": {},
   "cell_type": "markdown",
   "metadata": {},
   "source": [
    "#### Ejemplo 4: \n",
    "\n",
    "Analizar el tiempo de ejecución y determinar su Orden.  \n",
    "\n",
    "$$\n",
    "\\begin{equation*}\n",
    "T(n) = \\begin{cases}\n",
    "c_1 & \\quad \\text{ si } n \\le 1, \\\\[1ex]\n",
    "2 T(n-1) + c_2 & \\quad \\text{ si } n > 1.\n",
    "\\end{cases}\n",
    "\\end{equation*}\n",
    "$$\n",
    "\n",
    "<br>\n",
    "Jamboard:\n",
    "\n",
    "link: https://jamboard.google.com/d/1suOI-FZXs5mZbe5icwFwiYiLvYVuv0U5jMmHfHY8gYI/edit?usp=sharing"
   ]
  },
  {
   "attachments": {},
   "cell_type": "markdown",
   "metadata": {},
   "source": [
    "#### Ejemplo 5: \n",
    "\n",
    "Analizar el tiempo de ejecución y determinar su Orden.  \n",
    "\n",
    "$$\n",
    "\\begin{equation*}\n",
    "T(n) = \\begin{cases}\n",
    "c & \\quad \\text{ si } n=1, \\\\[1ex]\n",
    "2n + T(\\frac{n}{2}) & \\quad \\text{ si } n \\ge 2.\n",
    "\\end{cases}\n",
    "\\end{equation*}\n",
    "$$\n",
    "\n",
    "<br>\n",
    "Jamboard:\n",
    "\n",
    "link: https://jamboard.google.com/d/1CHr_tQnGGHXfm8WqKz3oPP8QkMxETkHCHfMgj2h_oV0/edit?usp=sharing"
   ]
  },
  {
   "cell_type": "markdown",
   "metadata": {},
   "source": []
  }
 ],
 "metadata": {
  "kernelspec": {
   "display_name": "Python 3",
   "language": "python",
   "name": "python3"
  },
  "language_info": {
   "codemirror_mode": {
    "name": "ipython",
    "version": 3
   },
   "file_extension": ".py",
   "mimetype": "text/x-python",
   "name": "python",
   "nbconvert_exporter": "python",
   "pygments_lexer": "ipython3",
   "version": "3.7.3 (v3.7.3:ef4ec6ed12, Mar 25 2019, 16:52:21) \n[Clang 6.0 (clang-600.0.57)]"
  },
  "vscode": {
   "interpreter": {
    "hash": "aee8b7b246df8f9039afb4144a1f6fd8d2ca17a180786b69acc140d282b71a49"
   }
  }
 },
 "nbformat": 4,
 "nbformat_minor": 2
}
