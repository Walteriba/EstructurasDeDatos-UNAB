{
 "cells": [
  {
   "attachments": {},
   "cell_type": "markdown",
   "metadata": {
    "pycharm": {}
   },
   "source": [
    "# Ejercicios - Clase 10 - Grafos"
   ]
  },
  {
   "cell_type": "markdown",
   "metadata": {
    "pycharm": {}
   },
   "source": [
    "## Ejercicios"
   ]
  },
  {
   "attachments": {},
   "cell_type": "markdown",
   "metadata": {},
   "source": [
    "### Ej. 1:\n",
    "\n",
    "Para un grafo no dirigido de $n$ vértices, ¿cuál es el mayor número de *aristas* que puede tener?"
   ]
  },
  {
   "cell_type": "markdown",
   "metadata": {},
   "source": []
  },
  {
   "attachments": {},
   "cell_type": "markdown",
   "metadata": {},
   "source": [
    "### Ej. 2:\n",
    "\n",
    "¿En función de qué parámetros resulta apropiado realizar la estimación del orden de ejecución para algoritmos sobre grafos densos? ¿Y para algoritmos sobre grafos dispersos?"
   ]
  },
  {
   "cell_type": "markdown",
   "metadata": {},
   "source": []
  },
  {
   "attachments": {},
   "cell_type": "markdown",
   "metadata": {},
   "source": [
    "### Ej. 3:\n",
    "\n",
    "Sea la siguiente especificación:\n",
    "\n",
    "<img src=\"https://drive.google.com/uc?id=1rOZppMR90_soeVI0AFLtMrtnzgyh8Oh8\" style=\"width: 600px;\" />\n",
    "\n",
    "La descripción de algunos de los métodos es la siguiente:\n",
    "\n",
    "- <code>conectar(Vertice v1, Vertice v2): boolean</code> #Si <code>v1</code> y <code>v2</code> son vértices del grafo, entonces agrega la arista y retorna <code>True</code>, si no retorna <code>False</code>.\n",
    "\n",
    "- <code>desconectar(Vertice v1, Vertice v2): boolean</code> #Si <code>(v1, v2)</code> no es arista del grafo, entonces no modifica nada y retorna <code>False</code>; si no elimina del grafo la arista y retorna <code>True</code>.\n",
    "\n",
    "- <code>listaDeVertices(): list</code> #Retorna la lista de vértices del grafo.\n",
    "<br></br>\n",
    "\n",
    "a) Implementar la clase Grafo de acuerdo a la especificación dada.\n",
    "\n",
    "b) Estimar el orden de ejecución de cada una de las operaciones.\n",
    "\n",
    "c) Definir como subclase de Grafo, la clase GrafoPesado, de acuerdo a la especificación dada a continuación:\n",
    "\n",
    "<img src=\"https://drive.google.com/uc?id=1rS_UT7vX_W8JSKJNqpZtAjTSniRsXesO\" style=\"width: 300px;\" />\n",
    "\n"
   ]
  },
  {
   "cell_type": "code",
   "execution_count": null,
   "metadata": {},
   "outputs": [],
   "source": []
  },
  {
   "attachments": {},
   "cell_type": "markdown",
   "metadata": {},
   "source": [
    "### Ej. 4:\n",
    "\n",
    "Agregue a la clase <code>Grafo</code> los siguientes métodos:\n",
    "\n",
    "a) <code>dfs(): list</code> #devuelve una lista con el recorrido en profundidad\n",
    "\n",
    "b) <code>bfs(): list</code> #devuelve una lista con el recorrido en amplitud\n",
    "\n",
    "c) <code>tieneCiclo(): boolean</code>\n",
    "\n",
    "d) Mostrar mediante un ejemplo que el algoritmo de Dijkstra falla para cuando existen en el grafo aristas de costo negativo. \n",
    "\n",
    "e) <code>dijkstra (Vértice v): list</code> #se ejecuta usando una Heap. Retorna una lista de **\"costos\"**. Siendo <code>Costo</code> un objeto que contiene un <code>Vertice</code>, el costo de accederlo y el <code>Vertice</code> por el cual hay que pasar previamente \n",
    "\n",
    "f) <code>ordenTopologico(): list</code> #La organización topológica (o *“sort topológico”*) de un **DAG** (grafo acíclico dirigido) es un proceso de asignación de un orden lineal a los vértices del **DAG** de modo que si existe una arista <code>(v,w)</code> en el **DAG**, entonces <code>v</code> aparece antes de <code>w</code> en dicho ordenamiento lineal \n",
    "\n",
    "g) Estimar los órdenes de ejecución de los métodos anteriores. "
   ]
  },
  {
   "cell_type": "code",
   "execution_count": null,
   "metadata": {},
   "outputs": [],
   "source": []
  },
  {
   "attachments": {},
   "cell_type": "markdown",
   "metadata": {},
   "source": [
    "### Ej. 5:\n",
    "\n",
    "Implemente una clase llamada <code>Mapa</code> que mantiene la información de ciudades y de las rutas que las conectan. La estructura usada para representar esta información es un Grafo.\n",
    "\n",
    "\n",
    "La interface pública de la clase <code>Mapa</code> es la siguiente:\n",
    "\n",
    "a) <code>existeCamino (Ciudad c1, Ciudad c2): boolean</code>\n",
    "\n",
    "b) <code>devolverCamino (Ciudad c1, Ciudad c2): Lista</code>\n",
    "    \n",
    "c) <code>devolverCaminoExceptuando (Ciudad c1, Ciudad c2, list ciudades): list</code> #devuelve la lista de ciudades que forman un camino desde <code>c1</code> a <code>c2</code>, sin pasar por las ciudades que están contenidas en la lista ciudades. \n",
    "\n",
    "d) <code>caminoMasCorto(Ciudad c1, Ciudad c2): list</code> #Como las rutas poseen un costo de peaje para transitarlas, debe encontrar el camino mas económico para llegar de una ciudad a otra. Es decir, no importa los kilómetros recorridos, solo debe preocuparse para minimizar el dinero que necesita para pagar los peajes.\n",
    "\n",
    "e) <code>caminoMasCortoCargandoCombustible (Ciudad c1, Ciudad c2, Auto a1): list</code> #Suponiendo que se desplaza con automóvil que posee un tanque de combustible de tamaño conocido y un consumo (litros/longitud) también conocido, y las rutas tienen una longitud, el auto no se debe quedar sin combustible en medio de una ruta. El automóvil puede completar su tanque al llegar a cualquier ciudad. Debe devolver el camino más corto en función del consumo de combustible"
   ]
  },
  {
   "cell_type": "code",
   "execution_count": null,
   "metadata": {},
   "outputs": [],
   "source": []
  }
 ],
 "metadata": {
  "kernelspec": {
   "display_name": "Python 3",
   "language": "python",
   "name": "python3"
  },
  "language_info": {
   "codemirror_mode": {
    "name": "ipython",
    "version": 3
   },
   "file_extension": ".py",
   "mimetype": "text/x-python",
   "name": "python",
   "nbconvert_exporter": "python",
   "pygments_lexer": "ipython3",
   "version": "3.7.3 (v3.7.3:ef4ec6ed12, Mar 25 2019, 16:52:21) \n[Clang 6.0 (clang-600.0.57)]"
  },
  "pycharm": {
   "stem_cell": {
    "cell_type": "raw",
    "metadata": {
     "collapsed": false
    },
    "source": []
   }
  },
  "vscode": {
   "interpreter": {
    "hash": "aee8b7b246df8f9039afb4144a1f6fd8d2ca17a180786b69acc140d282b71a49"
   }
  }
 },
 "nbformat": 4,
 "nbformat_minor": 2
}
