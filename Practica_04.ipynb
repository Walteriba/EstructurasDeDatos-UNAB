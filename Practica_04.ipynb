{
 "cells": [
  {
   "attachments": {},
   "cell_type": "markdown",
   "metadata": {
    "pycharm": {}
   },
   "source": [
    "# Ejercicios - Clase 04 - Árboles Binarios"
   ]
  },
  {
   "cell_type": "markdown",
   "metadata": {
    "pycharm": {}
   },
   "source": [
    "## Ejercicios"
   ]
  },
  {
   "attachments": {},
   "cell_type": "markdown",
   "metadata": {},
   "source": [
    "### Ej. 1:\n",
    "Implementar un árbol binario con la representación de hijo izquierdo e hijo derecho.\n",
    "\n",
    "<img src=\"https://drive.google.com/uc?id=1qKGNkfZnkES2Qkt8F04ZJYHs0InbWlU5\" style=\"width: 400px;\" />\n"
   ]
  },
  {
   "cell_type": "code",
   "execution_count": null,
   "metadata": {},
   "outputs": [],
   "source": []
  },
  {
   "attachments": {},
   "cell_type": "markdown",
   "metadata": {},
   "source": [
    "### Ej. 2:\n",
    "Agregue a la clase ArbolBinario los siguientes métodos y constructores:\n",
    "\n",
    "<img src=\"https://drive.google.com/uc?id=1q_OQ8I6ybRpeRL165ACzrhrhDrzz3Fau\" style=\"width: 400px;\" />\n",
    "\n",
    "\n",
    "a) <code>ArbolBinario (unArbol)</code>. El método crea un arbol binario (*bt*) a partir de un árbol no binario (*gt*). La transformación es la siguiente. Cada vértice de *gt* estará representado por una hoja en *bt*. Si *gt* es una hoja entonces *bt* será una hoja con el mismo valor que el de *gt*. En otro caso, *gt* no es una hoja, entonces *bt* será armado como un vértice raíz, sin contenido, un subárbol izquierdo, *lt*, y un subárbol derecho, *rt*. *lt* es un árbol binario estricto formado a partir del subárbol más viejo de *gt* (el subárbol más izquierdo de *gt*) y *rt* es un árbol binario estricto, formado a partir de *gt* sin su subárbol más viejo.\n",
    "\n",
    "b) <code>frontera()</code> el método retona una lista. Se define frontera de un árbol binario, a las hojas de un árbol binario recorridos de izquierda a derecha. Escribir un método que dado un árbol binario devuelva su frontera.\n",
    "\n",
    "c) <code>esMenor(unArbolBinario)</code> el método retorna un valor booleano. Se define una relación de orden entre árboles binarios no nulos de enteros de la siguiente forma:\n",
    "\n",
    "<img src=\"https://drive.google.com/uc?id=1qUNSGw_9Y3UJL1yMEermcqXBQYmju4S6\" style=\"width: 400px;\" />\n",
    "\n",
    "\n",
    "donde $a$, $b$ son las raíces y $A_i$, $A_d$, $B_i$, $B_d$ son los subárboles izquierdos y derechos.\n",
    "\n",
    "d) <code>zigZag()</code> el método retorna un valor booleano. Devuelve <code>True</code> sólo si el árbol es degenerado con direcciones alternadas, esto es, si en lugar de ser una lista donde todos los hijos están en el lado izquierdo o derecho se van alternando. Devuelve <code>False</code> en caso contrario.\n",
    "\n",
    "e) <code>lleno()</code> el método retorna un valor booleano. Devuelve <code>True</code> si el árbol es lleno, <code>False</code> en otro caso. Un árbol binario es lleno si tiene todas las hojas al mismo nivel y además tiene todas las hojas posibles, es decir todos los nodos intermedios tienen dos hijos.\n",
    "\n",
    "f) <code>completo()</code> el método retona un valor booleano. Devuelve <code>True</code> si el árbol es completo, <code>False</code> en otro caso. Un árbol binario de altura $h$ es completo si es lleno hasta el nivel $h-1$ y el nivel $h$ se completa de izquierda a derecha.\n",
    "\n",
    "g) <code>espejo()</code> el método retorna un (nuevo) <code>ArbolBinario</code>. Por ejemplo:\n",
    "\n",
    "<img src=\"https://drive.google.com/uc?id=1qBdZFWDOmoORQ5VF4yjqqtsoAouSMuaf\" style=\"width: 400px;\" />\n",
    "\n",
    "\n",
    "h) <code>colorear()</code>. Un árbol binario coloreado es un árbol binario lleno cuyos nodos tienen dos colores posibles negro o blanco. El color para la raíz del árbol es negro. Y para cada nivel los colores de los nodos se intercalan. Como así también al comenzar cada nivel. Por ejemplo un árbol coloreado de altura 3 deberá ser:\n",
    "\n",
    "<img src=\"https://drive.google.com/uc?id=1qSbSARr5yJfOEer4K-eXVaXkhMu9t8mJ\" style=\"width: 400px;\" />\n"
   ]
  },
  {
   "cell_type": "code",
   "execution_count": null,
   "metadata": {},
   "outputs": [],
   "source": []
  },
  {
   "attachments": {},
   "cell_type": "markdown",
   "metadata": {},
   "source": [
    "### Ej. 3:\n",
    "\n",
    "Se quiere hacer que una computadora adivine un nombre de animal que un usuario ha elegido previamente. La computadora debe hacer preguntas a las que el usuario debe responder por si o no. Con estas respuestas la computadora llega a determinar un animal, y arriesga una respuesta (haciendo una pregunta del tipo *Es un perro?*). Si acierta, el juego termina y la computadora adivinó. En otro caso, el usuario debe proveer una nueva pregunta que caracterice al animal en cuestión, la que debe ser incorporada a las ya existentes en el lugar que se considere adecuado.\n",
    "\n",
    "a.1.) Defina una clase llamada Juego e implemente el método de instancia <code>jugar()</code>.\n",
    "\n",
    "a.2) Defina una clase <code>TestJuego</code> con un método main que se encargue de construir un árbol con al menos 3 niveles y luego comience el juego.\n"
   ]
  },
  {
   "cell_type": "code",
   "execution_count": null,
   "metadata": {},
   "outputs": [],
   "source": [
    "class Nodo:\n",
    "    def __init__(self, pregunta=None, animal=None):\n",
    "        self.pregunta = pregunta  # Pregunta en el nodo\n",
    "        self.animal = animal  # Animal adivinado (solo hojas)\n",
    "        self.si = None  # Hijo para respuesta \"Sí\"\n",
    "        self.no = None  # Hijo para respuesta \"No\"\n",
    "\n",
    "class Juego:\n",
    "    def __init__(self):\n",
    "        # Crear el árbol binario\n",
    "        self.raiz = Nodo(pregunta=\"¿Vive en el agua?\")\n",
    "        self.raiz.si = Nodo(animal=\"pez\")\n",
    "        self.raiz.no = Nodo(pregunta=\"¿Tiene pelo?\")\n",
    "        self.raiz.no.si = Nodo(animal=\"gato\")\n",
    "        self.raiz.no.no = Nodo(animal=\"pájaro\")\n",
    "\n",
    "    def jugar(self):\n",
    "        nodo_actual = self.raiz\n",
    "\n",
    "        while nodo_actual.pregunta:\n",
    "            respuesta = input(f\"{nodo_actual.pregunta} (Sí/No): \").strip().capitalize()\n",
    "            \n",
    "            if respuesta == \"Sí\":\n",
    "                nodo_actual = nodo_actual.si\n",
    "            elif respuesta == \"No\":\n",
    "                nodo_actual = nodo_actual.no\n",
    "            else:\n",
    "                print(\"Por favor, responde con 'Sí' o 'No'.\")\n",
    "\n",
    "        animal_adivinado = nodo_actual.animal\n",
    "        respuesta_correcta = input(f\"¿Es un {animal_adivinado}? (Sí/No): \").strip().capitalize()\n",
    "\n",
    "        if respuesta_correcta == \"Sí\":\n",
    "            print(\"¡Adiviné el animal!\")\n",
    "        else:\n",
    "            nueva_pregunta = input(\"Por favor, proporciona una pregunta que caracterice al animal en cuestión: \")\n",
    "            nueva_respuesta = input(f\"¿Cuál es la respuesta para un {animal_adivinado} en tu caso? (Sí/No): \").strip().capitalize()\n",
    "\n",
    "            # Actualizar el árbol binario con la nueva pregunta y respuesta\n",
    "            nodo_actual.animal = None\n",
    "            nodo_actual.pregunta = nueva_pregunta\n",
    "            nodo_actual.si = Nodo(animal=nueva_respuesta)\n",
    "            nodo_actual.no = Nodo(animal=animal_adivinado)\n",
    "\n",
    "            print(\"Gracias por ayudarme a aprender.\")\n",
    "\n",
    "# Prueba el juego\n",
    "if __name__ == \"__main__\":\n",
    "    juego = Juego()\n",
    "    juego.jugar()\n"
   ]
  },
  {
   "attachments": {},
   "cell_type": "markdown",
   "metadata": {},
   "source": [
    "### Ej. 4:\n",
    "\n",
    "Considere un árbol binario no vacío con dos tipos de nodos, nodos **MIN** y nodos **MAX**. Cada nodo tiene un valor entero asociado. Se puede definir el valor de un árbol de estas características de la siguiente manera:\n",
    "\n",
    "Si la raíz es un nodo **MIN**, entonces el valor del árbol es igual al mínimo valor entre: \n",
    " - El entero almacenado en la raíz.\n",
    " - El valor correspondiente al subárbol izquierdo, si el mismo no es vacío. \n",
    " - El valor correspondiente al subárbol derecho, si el mismo no es vacío.\n",
    "\n",
    "Si la raíz es un nodo **MAX**, entonces el valor del árbol es igual al máximo valor entre los valores nombrados anteriormente.\n",
    "\n",
    "b.1.) Defina una clase ArbolMinMax como subclase de la clase ArbolBinario y defina los métodos de instancia <code>setNodoMin()</code>, <code>setNodoMax()</code> y <code>evaluar()</code> (retorna un valor entero).\n",
    "\n",
    "b.2) Defina una clase <code>TestMiniMax</code> que su método main se encargue de definir un arbol con al menos 7 nodos con diferentes valores y naturaleza (min o max) y lo evalúe.\n"
   ]
  },
  {
   "cell_type": "code",
   "execution_count": null,
   "metadata": {},
   "outputs": [],
   "source": []
  },
  {
   "attachments": {},
   "cell_type": "markdown",
   "metadata": {},
   "source": [
    "### Ej. 5:\n",
    "\n",
    "a) A partir de un árbol binario de búsqueda vacío, dibuje las transformaciones que sufre al insertar cada uno de los siguientes elementos: 3, 1, 4, 6, 8, 2, 5, 7.\n",
    "\n",
    "b) Dibuje como queda el árbol al eliminar los elementos: 7, 1 y 6.\n",
    "\n",
    "c) A partir de un árbol binario de búsqueda nuevamente vacío, dibuje las transformaciones que sufre al insertar cada uno de los siguientes elementos: 5,3,7,1,8,4,6.\n",
    "\n",
    "d) Dibuje como queda el árbol al eliminar los elementos: 5, 3 y 7.\n",
    "\n",
    "e) ¿Qué puede concluir a partir de los árboles de a) y c)?"
   ]
  },
  {
   "cell_type": "code",
   "execution_count": null,
   "metadata": {},
   "outputs": [],
   "source": []
  }
 ],
 "metadata": {
  "kernelspec": {
   "display_name": "Python 3",
   "language": "python",
   "name": "python3"
  },
  "language_info": {
   "codemirror_mode": {
    "name": "ipython",
    "version": 3
   },
   "file_extension": ".py",
   "mimetype": "text/x-python",
   "name": "python",
   "nbconvert_exporter": "python",
   "pygments_lexer": "ipython3",
   "version": "3.7.3 (v3.7.3:ef4ec6ed12, Mar 25 2019, 16:52:21) \n[Clang 6.0 (clang-600.0.57)]"
  },
  "pycharm": {
   "stem_cell": {
    "cell_type": "raw",
    "metadata": {
     "collapsed": false
    },
    "source": []
   }
  },
  "vscode": {
   "interpreter": {
    "hash": "aee8b7b246df8f9039afb4144a1f6fd8d2ca17a180786b69acc140d282b71a49"
   }
  }
 },
 "nbformat": 4,
 "nbformat_minor": 2
}
